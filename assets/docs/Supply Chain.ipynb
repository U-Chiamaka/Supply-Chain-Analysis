{
 "cells": [
  {
   "cell_type": "code",
   "execution_count": 1,
   "id": "7c67fd42-2610-44b2-8b9b-c09634b2387a",
   "metadata": {
    "scrolled": true
   },
   "outputs": [],
   "source": [
    "import pandas as pd"
   ]
  },
  {
   "cell_type": "markdown",
   "id": "b8a263ee-9956-40ce-bfc2-0e077fc2f74a",
   "metadata": {},
   "source": [
    "#### Importing Datasets"
   ]
  },
  {
   "cell_type": "code",
   "execution_count": 2,
   "id": "d15072e0-2b04-45e9-9ebf-9aedd762387a",
   "metadata": {},
   "outputs": [],
   "source": [
    "orders = pd.read_csv('orders_and_shipments.csv', encoding='latin1')\n",
    "fulfillment= pd.read_csv('fulfillment.csv', encoding='latin1')\n",
    "inventory= pd.read_csv('inventory.csv', encoding='latin1')"
   ]
  },
  {
   "cell_type": "code",
   "execution_count": 3,
   "id": "b97eec40-467e-4c7f-8992-7eb07c84e4af",
   "metadata": {},
   "outputs": [
    {
     "data": {
      "text/html": [
       "<div>\n",
       "<style scoped>\n",
       "    .dataframe tbody tr th:only-of-type {\n",
       "        vertical-align: middle;\n",
       "    }\n",
       "\n",
       "    .dataframe tbody tr th {\n",
       "        vertical-align: top;\n",
       "    }\n",
       "\n",
       "    .dataframe thead th {\n",
       "        text-align: right;\n",
       "    }\n",
       "</style>\n",
       "<table border=\"1\" class=\"dataframe\">\n",
       "  <thead>\n",
       "    <tr style=\"text-align: right;\">\n",
       "      <th></th>\n",
       "      <th>Order ID</th>\n",
       "      <th>Order Item ID</th>\n",
       "      <th>Order YearMonth</th>\n",
       "      <th>Order Year</th>\n",
       "      <th>Order Month</th>\n",
       "      <th>Order Day</th>\n",
       "      <th>Order Time</th>\n",
       "      <th>Order Quantity</th>\n",
       "      <th>Product Department</th>\n",
       "      <th>Product Category</th>\n",
       "      <th>...</th>\n",
       "      <th>Customer Country</th>\n",
       "      <th>Warehouse Country</th>\n",
       "      <th>Shipment Year</th>\n",
       "      <th>Shipment Month</th>\n",
       "      <th>Shipment Day</th>\n",
       "      <th>Shipment Mode</th>\n",
       "      <th>Shipment Days - Scheduled</th>\n",
       "      <th>Gross Sales</th>\n",
       "      <th>Discount %</th>\n",
       "      <th>Profit</th>\n",
       "    </tr>\n",
       "  </thead>\n",
       "  <tbody>\n",
       "    <tr>\n",
       "      <th>0</th>\n",
       "      <td>3535</td>\n",
       "      <td>8793</td>\n",
       "      <td>201502</td>\n",
       "      <td>2015</td>\n",
       "      <td>2</td>\n",
       "      <td>21</td>\n",
       "      <td>14:07</td>\n",
       "      <td>1</td>\n",
       "      <td>Fan Shop</td>\n",
       "      <td>Fishing</td>\n",
       "      <td>...</td>\n",
       "      <td>Mexico</td>\n",
       "      <td>Puerto Rico</td>\n",
       "      <td>2015</td>\n",
       "      <td>2</td>\n",
       "      <td>27</td>\n",
       "      <td>Standard Class</td>\n",
       "      <td>4</td>\n",
       "      <td>400</td>\n",
       "      <td>0.25</td>\n",
       "      <td>200</td>\n",
       "    </tr>\n",
       "    <tr>\n",
       "      <th>1</th>\n",
       "      <td>4133</td>\n",
       "      <td>10320</td>\n",
       "      <td>201503</td>\n",
       "      <td>2015</td>\n",
       "      <td>3</td>\n",
       "      <td>2</td>\n",
       "      <td>07:37</td>\n",
       "      <td>1</td>\n",
       "      <td>Fan Shop</td>\n",
       "      <td>Fishing</td>\n",
       "      <td>...</td>\n",
       "      <td>Brazil</td>\n",
       "      <td>Puerto Rico</td>\n",
       "      <td>2015</td>\n",
       "      <td>3</td>\n",
       "      <td>6</td>\n",
       "      <td>Standard Class</td>\n",
       "      <td>4</td>\n",
       "      <td>400</td>\n",
       "      <td>0.09</td>\n",
       "      <td>200</td>\n",
       "    </tr>\n",
       "    <tr>\n",
       "      <th>2</th>\n",
       "      <td>7396</td>\n",
       "      <td>18517</td>\n",
       "      <td>201504</td>\n",
       "      <td>2015</td>\n",
       "      <td>4</td>\n",
       "      <td>18</td>\n",
       "      <td>22:47</td>\n",
       "      <td>1</td>\n",
       "      <td>Fan Shop</td>\n",
       "      <td>Fishing</td>\n",
       "      <td>...</td>\n",
       "      <td>Mexico</td>\n",
       "      <td>Puerto Rico</td>\n",
       "      <td>2015</td>\n",
       "      <td>4</td>\n",
       "      <td>20</td>\n",
       "      <td>Standard Class</td>\n",
       "      <td>4</td>\n",
       "      <td>400</td>\n",
       "      <td>0.06</td>\n",
       "      <td>200</td>\n",
       "    </tr>\n",
       "    <tr>\n",
       "      <th>3</th>\n",
       "      <td>11026</td>\n",
       "      <td>27608</td>\n",
       "      <td>201506</td>\n",
       "      <td>2015</td>\n",
       "      <td>6</td>\n",
       "      <td>10</td>\n",
       "      <td>22:32</td>\n",
       "      <td>1</td>\n",
       "      <td>Fan Shop</td>\n",
       "      <td>Fishing</td>\n",
       "      <td>...</td>\n",
       "      <td>Denmark</td>\n",
       "      <td>Puerto Rico</td>\n",
       "      <td>2015</td>\n",
       "      <td>6</td>\n",
       "      <td>12</td>\n",
       "      <td>Standard Class</td>\n",
       "      <td>4</td>\n",
       "      <td>400</td>\n",
       "      <td>0.15</td>\n",
       "      <td>200</td>\n",
       "    </tr>\n",
       "    <tr>\n",
       "      <th>4</th>\n",
       "      <td>11026</td>\n",
       "      <td>27609</td>\n",
       "      <td>201506</td>\n",
       "      <td>2015</td>\n",
       "      <td>6</td>\n",
       "      <td>10</td>\n",
       "      <td>22:32</td>\n",
       "      <td>1</td>\n",
       "      <td>Fan Shop</td>\n",
       "      <td>Fishing</td>\n",
       "      <td>...</td>\n",
       "      <td>Denmark</td>\n",
       "      <td>Puerto Rico</td>\n",
       "      <td>2015</td>\n",
       "      <td>6</td>\n",
       "      <td>12</td>\n",
       "      <td>Standard Class</td>\n",
       "      <td>4</td>\n",
       "      <td>400</td>\n",
       "      <td>0.13</td>\n",
       "      <td>200</td>\n",
       "    </tr>\n",
       "  </tbody>\n",
       "</table>\n",
       "<p>5 rows × 24 columns</p>\n",
       "</div>"
      ],
      "text/plain": [
       "    Order ID    Order Item ID    Order YearMonth    Order Year   \\\n",
       "0        3535             8793             201502          2015   \n",
       "1        4133            10320             201503          2015   \n",
       "2        7396            18517             201504          2015   \n",
       "3       11026            27608             201506          2015   \n",
       "4       11026            27609             201506          2015   \n",
       "\n",
       "    Order Month    Order Day  Order Time  Order Quantity Product Department  \\\n",
       "0              2           21      14:07               1           Fan Shop   \n",
       "1              3            2      07:37               1           Fan Shop   \n",
       "2              4           18      22:47               1           Fan Shop   \n",
       "3              6           10      22:32               1           Fan Shop   \n",
       "4              6           10      22:32               1           Fan Shop   \n",
       "\n",
       "  Product Category  ... Customer Country  Warehouse Country Shipment Year  \\\n",
       "0          Fishing  ...           Mexico        Puerto Rico          2015   \n",
       "1          Fishing  ...           Brazil        Puerto Rico          2015   \n",
       "2          Fishing  ...           Mexico        Puerto Rico          2015   \n",
       "3          Fishing  ...          Denmark        Puerto Rico          2015   \n",
       "4          Fishing  ...          Denmark        Puerto Rico          2015   \n",
       "\n",
       "  Shipment Month Shipment Day   Shipment Mode   Shipment Days - Scheduled   \\\n",
       "0              2           27  Standard Class                            4   \n",
       "1              3            6  Standard Class                            4   \n",
       "2              4           20  Standard Class                            4   \n",
       "3              6           12  Standard Class                            4   \n",
       "4              6           12  Standard Class                            4   \n",
       "\n",
       "    Gross Sales    Discount %   Profit   \n",
       "0            400          0.25      200  \n",
       "1            400          0.09      200  \n",
       "2            400          0.06      200  \n",
       "3            400          0.15      200  \n",
       "4            400          0.13      200  \n",
       "\n",
       "[5 rows x 24 columns]"
      ]
     },
     "execution_count": 3,
     "metadata": {},
     "output_type": "execute_result"
    }
   ],
   "source": [
    "orders.head()"
   ]
  },
  {
   "cell_type": "code",
   "execution_count": 4,
   "id": "82971104-b0e4-46a6-b2a4-d51bd78a7f58",
   "metadata": {},
   "outputs": [
    {
     "data": {
      "text/html": [
       "<div>\n",
       "<style scoped>\n",
       "    .dataframe tbody tr th:only-of-type {\n",
       "        vertical-align: middle;\n",
       "    }\n",
       "\n",
       "    .dataframe tbody tr th {\n",
       "        vertical-align: top;\n",
       "    }\n",
       "\n",
       "    .dataframe thead th {\n",
       "        text-align: right;\n",
       "    }\n",
       "</style>\n",
       "<table border=\"1\" class=\"dataframe\">\n",
       "  <thead>\n",
       "    <tr style=\"text-align: right;\">\n",
       "      <th></th>\n",
       "      <th>Product Name</th>\n",
       "      <th>Warehouse Order Fulfillment (days)</th>\n",
       "    </tr>\n",
       "  </thead>\n",
       "  <tbody>\n",
       "    <tr>\n",
       "      <th>0</th>\n",
       "      <td>Perfect Fitness Perfect Rip Deck</td>\n",
       "      <td>8.3</td>\n",
       "    </tr>\n",
       "    <tr>\n",
       "      <th>1</th>\n",
       "      <td>Nike Men's Dri-FIT Victory Golf Polo</td>\n",
       "      <td>6.6</td>\n",
       "    </tr>\n",
       "    <tr>\n",
       "      <th>2</th>\n",
       "      <td>O'Brien Men's Neoprene Life Vest</td>\n",
       "      <td>5.5</td>\n",
       "    </tr>\n",
       "    <tr>\n",
       "      <th>3</th>\n",
       "      <td>Nike Men's Free 5.0+ Running Shoe</td>\n",
       "      <td>9.4</td>\n",
       "    </tr>\n",
       "    <tr>\n",
       "      <th>4</th>\n",
       "      <td>Under Armour Girls' Toddler Spine Surge Runni</td>\n",
       "      <td>6.3</td>\n",
       "    </tr>\n",
       "  </tbody>\n",
       "</table>\n",
       "</div>"
      ],
      "text/plain": [
       "                                    Product Name  \\\n",
       "0               Perfect Fitness Perfect Rip Deck   \n",
       "1           Nike Men's Dri-FIT Victory Golf Polo   \n",
       "2               O'Brien Men's Neoprene Life Vest   \n",
       "3              Nike Men's Free 5.0+ Running Shoe   \n",
       "4  Under Armour Girls' Toddler Spine Surge Runni   \n",
       "\n",
       "    Warehouse Order Fulfillment (days)   \n",
       "0                                   8.3  \n",
       "1                                   6.6  \n",
       "2                                   5.5  \n",
       "3                                   9.4  \n",
       "4                                   6.3  "
      ]
     },
     "execution_count": 4,
     "metadata": {},
     "output_type": "execute_result"
    }
   ],
   "source": [
    "fulfillment.head()"
   ]
  },
  {
   "cell_type": "code",
   "execution_count": 5,
   "id": "43aefea9-c82b-4886-8902-d2df4fa7ea96",
   "metadata": {},
   "outputs": [
    {
     "data": {
      "text/html": [
       "<div>\n",
       "<style scoped>\n",
       "    .dataframe tbody tr th:only-of-type {\n",
       "        vertical-align: middle;\n",
       "    }\n",
       "\n",
       "    .dataframe tbody tr th {\n",
       "        vertical-align: top;\n",
       "    }\n",
       "\n",
       "    .dataframe thead th {\n",
       "        text-align: right;\n",
       "    }\n",
       "</style>\n",
       "<table border=\"1\" class=\"dataframe\">\n",
       "  <thead>\n",
       "    <tr style=\"text-align: right;\">\n",
       "      <th></th>\n",
       "      <th>Product Name</th>\n",
       "      <th>Year Month</th>\n",
       "      <th>Warehouse Inventory</th>\n",
       "      <th>Inventory Cost Per Unit</th>\n",
       "    </tr>\n",
       "  </thead>\n",
       "  <tbody>\n",
       "    <tr>\n",
       "      <th>0</th>\n",
       "      <td>Perfect Fitness Perfect Rip Deck</td>\n",
       "      <td>201712</td>\n",
       "      <td>0</td>\n",
       "      <td>0.69517</td>\n",
       "    </tr>\n",
       "    <tr>\n",
       "      <th>1</th>\n",
       "      <td>Nike Men's Dri-FIT Victory Golf Polo</td>\n",
       "      <td>201712</td>\n",
       "      <td>2</td>\n",
       "      <td>1.29291</td>\n",
       "    </tr>\n",
       "    <tr>\n",
       "      <th>2</th>\n",
       "      <td>O'Brien Men's Neoprene Life Vest</td>\n",
       "      <td>201712</td>\n",
       "      <td>0</td>\n",
       "      <td>0.56531</td>\n",
       "    </tr>\n",
       "    <tr>\n",
       "      <th>3</th>\n",
       "      <td>Nike Men's Free 5.0+ Running Shoe</td>\n",
       "      <td>201712</td>\n",
       "      <td>1</td>\n",
       "      <td>1.26321</td>\n",
       "    </tr>\n",
       "    <tr>\n",
       "      <th>4</th>\n",
       "      <td>Under Armour Girls' Toddler Spine Surge Runni</td>\n",
       "      <td>201712</td>\n",
       "      <td>0</td>\n",
       "      <td>1.47648</td>\n",
       "    </tr>\n",
       "  </tbody>\n",
       "</table>\n",
       "</div>"
      ],
      "text/plain": [
       "                                    Product Name   Year Month   \\\n",
       "0               Perfect Fitness Perfect Rip Deck        201712   \n",
       "1           Nike Men's Dri-FIT Victory Golf Polo        201712   \n",
       "2               O'Brien Men's Neoprene Life Vest        201712   \n",
       "3              Nike Men's Free 5.0+ Running Shoe        201712   \n",
       "4  Under Armour Girls' Toddler Spine Surge Runni        201712   \n",
       "\n",
       "    Warehouse Inventory   Inventory Cost Per Unit  \n",
       "0                      0                  0.69517  \n",
       "1                      2                  1.29291  \n",
       "2                      0                  0.56531  \n",
       "3                      1                  1.26321  \n",
       "4                      0                  1.47648  "
      ]
     },
     "execution_count": 5,
     "metadata": {},
     "output_type": "execute_result"
    }
   ],
   "source": [
    "inventory.head()"
   ]
  },
  {
   "cell_type": "markdown",
   "id": "f1e75213-e082-42cb-b65b-a02591dc6b20",
   "metadata": {},
   "source": [
    "# Data Cleaning"
   ]
  },
  {
   "cell_type": "markdown",
   "id": "d7c2a19f-68c6-4fb0-a5c4-6f610ffe66cb",
   "metadata": {},
   "source": [
    "### Checking for missing values"
   ]
  },
  {
   "cell_type": "code",
   "execution_count": 6,
   "id": "0edc8445-05c2-4a9b-80af-e2326aca82ec",
   "metadata": {},
   "outputs": [
    {
     "data": {
      "text/plain": [
       "Product Name               0\n",
       " Year Month                0\n",
       " Warehouse Inventory       0\n",
       "Inventory Cost Per Unit    0\n",
       "dtype: int64"
      ]
     },
     "execution_count": 6,
     "metadata": {},
     "output_type": "execute_result"
    }
   ],
   "source": [
    "orders.isnull().sum()\n",
    "fulfillment.isnull().sum()\n",
    "inventory.isnull().sum()"
   ]
  },
  {
   "cell_type": "markdown",
   "id": "e9233d33-7c93-497a-a697-fe4980f48023",
   "metadata": {},
   "source": [
    "### Removing Duplicates"
   ]
  },
  {
   "cell_type": "code",
   "execution_count": 7,
   "id": "106cfb40-3226-4079-b551-61827ffe3638",
   "metadata": {},
   "outputs": [
    {
     "data": {
      "text/html": [
       "<div>\n",
       "<style scoped>\n",
       "    .dataframe tbody tr th:only-of-type {\n",
       "        vertical-align: middle;\n",
       "    }\n",
       "\n",
       "    .dataframe tbody tr th {\n",
       "        vertical-align: top;\n",
       "    }\n",
       "\n",
       "    .dataframe thead th {\n",
       "        text-align: right;\n",
       "    }\n",
       "</style>\n",
       "<table border=\"1\" class=\"dataframe\">\n",
       "  <thead>\n",
       "    <tr style=\"text-align: right;\">\n",
       "      <th></th>\n",
       "      <th>Order ID</th>\n",
       "      <th>Order Item ID</th>\n",
       "      <th>Order YearMonth</th>\n",
       "      <th>Order Year</th>\n",
       "      <th>Order Month</th>\n",
       "      <th>Order Day</th>\n",
       "      <th>Order Time</th>\n",
       "      <th>Order Quantity</th>\n",
       "      <th>Product Department</th>\n",
       "      <th>Product Category</th>\n",
       "      <th>...</th>\n",
       "      <th>Customer Country</th>\n",
       "      <th>Warehouse Country</th>\n",
       "      <th>Shipment Year</th>\n",
       "      <th>Shipment Month</th>\n",
       "      <th>Shipment Day</th>\n",
       "      <th>Shipment Mode</th>\n",
       "      <th>Shipment Days - Scheduled</th>\n",
       "      <th>Gross Sales</th>\n",
       "      <th>Discount %</th>\n",
       "      <th>Profit</th>\n",
       "    </tr>\n",
       "  </thead>\n",
       "  <tbody>\n",
       "    <tr>\n",
       "      <th>0</th>\n",
       "      <td>3535</td>\n",
       "      <td>8793</td>\n",
       "      <td>201502</td>\n",
       "      <td>2015</td>\n",
       "      <td>2</td>\n",
       "      <td>21</td>\n",
       "      <td>14:07</td>\n",
       "      <td>1</td>\n",
       "      <td>Fan Shop</td>\n",
       "      <td>Fishing</td>\n",
       "      <td>...</td>\n",
       "      <td>Mexico</td>\n",
       "      <td>Puerto Rico</td>\n",
       "      <td>2015</td>\n",
       "      <td>2</td>\n",
       "      <td>27</td>\n",
       "      <td>Standard Class</td>\n",
       "      <td>4</td>\n",
       "      <td>400</td>\n",
       "      <td>0.25</td>\n",
       "      <td>200</td>\n",
       "    </tr>\n",
       "    <tr>\n",
       "      <th>1</th>\n",
       "      <td>4133</td>\n",
       "      <td>10320</td>\n",
       "      <td>201503</td>\n",
       "      <td>2015</td>\n",
       "      <td>3</td>\n",
       "      <td>2</td>\n",
       "      <td>07:37</td>\n",
       "      <td>1</td>\n",
       "      <td>Fan Shop</td>\n",
       "      <td>Fishing</td>\n",
       "      <td>...</td>\n",
       "      <td>Brazil</td>\n",
       "      <td>Puerto Rico</td>\n",
       "      <td>2015</td>\n",
       "      <td>3</td>\n",
       "      <td>6</td>\n",
       "      <td>Standard Class</td>\n",
       "      <td>4</td>\n",
       "      <td>400</td>\n",
       "      <td>0.09</td>\n",
       "      <td>200</td>\n",
       "    </tr>\n",
       "    <tr>\n",
       "      <th>2</th>\n",
       "      <td>7396</td>\n",
       "      <td>18517</td>\n",
       "      <td>201504</td>\n",
       "      <td>2015</td>\n",
       "      <td>4</td>\n",
       "      <td>18</td>\n",
       "      <td>22:47</td>\n",
       "      <td>1</td>\n",
       "      <td>Fan Shop</td>\n",
       "      <td>Fishing</td>\n",
       "      <td>...</td>\n",
       "      <td>Mexico</td>\n",
       "      <td>Puerto Rico</td>\n",
       "      <td>2015</td>\n",
       "      <td>4</td>\n",
       "      <td>20</td>\n",
       "      <td>Standard Class</td>\n",
       "      <td>4</td>\n",
       "      <td>400</td>\n",
       "      <td>0.06</td>\n",
       "      <td>200</td>\n",
       "    </tr>\n",
       "    <tr>\n",
       "      <th>3</th>\n",
       "      <td>11026</td>\n",
       "      <td>27608</td>\n",
       "      <td>201506</td>\n",
       "      <td>2015</td>\n",
       "      <td>6</td>\n",
       "      <td>10</td>\n",
       "      <td>22:32</td>\n",
       "      <td>1</td>\n",
       "      <td>Fan Shop</td>\n",
       "      <td>Fishing</td>\n",
       "      <td>...</td>\n",
       "      <td>Denmark</td>\n",
       "      <td>Puerto Rico</td>\n",
       "      <td>2015</td>\n",
       "      <td>6</td>\n",
       "      <td>12</td>\n",
       "      <td>Standard Class</td>\n",
       "      <td>4</td>\n",
       "      <td>400</td>\n",
       "      <td>0.15</td>\n",
       "      <td>200</td>\n",
       "    </tr>\n",
       "    <tr>\n",
       "      <th>4</th>\n",
       "      <td>11026</td>\n",
       "      <td>27609</td>\n",
       "      <td>201506</td>\n",
       "      <td>2015</td>\n",
       "      <td>6</td>\n",
       "      <td>10</td>\n",
       "      <td>22:32</td>\n",
       "      <td>1</td>\n",
       "      <td>Fan Shop</td>\n",
       "      <td>Fishing</td>\n",
       "      <td>...</td>\n",
       "      <td>Denmark</td>\n",
       "      <td>Puerto Rico</td>\n",
       "      <td>2015</td>\n",
       "      <td>6</td>\n",
       "      <td>12</td>\n",
       "      <td>Standard Class</td>\n",
       "      <td>4</td>\n",
       "      <td>400</td>\n",
       "      <td>0.13</td>\n",
       "      <td>200</td>\n",
       "    </tr>\n",
       "    <tr>\n",
       "      <th>...</th>\n",
       "      <td>...</td>\n",
       "      <td>...</td>\n",
       "      <td>...</td>\n",
       "      <td>...</td>\n",
       "      <td>...</td>\n",
       "      <td>...</td>\n",
       "      <td>...</td>\n",
       "      <td>...</td>\n",
       "      <td>...</td>\n",
       "      <td>...</td>\n",
       "      <td>...</td>\n",
       "      <td>...</td>\n",
       "      <td>...</td>\n",
       "      <td>...</td>\n",
       "      <td>...</td>\n",
       "      <td>...</td>\n",
       "      <td>...</td>\n",
       "      <td>...</td>\n",
       "      <td>...</td>\n",
       "      <td>...</td>\n",
       "      <td>...</td>\n",
       "    </tr>\n",
       "    <tr>\n",
       "      <th>30866</th>\n",
       "      <td>73246</td>\n",
       "      <td>176561</td>\n",
       "      <td>201712</td>\n",
       "      <td>2017</td>\n",
       "      <td>12</td>\n",
       "      <td>5</td>\n",
       "      <td>04:59</td>\n",
       "      <td>1</td>\n",
       "      <td>Fan Shop</td>\n",
       "      <td>Toys</td>\n",
       "      <td>...</td>\n",
       "      <td>Australia</td>\n",
       "      <td>Puerto Rico</td>\n",
       "      <td>2017</td>\n",
       "      <td>12</td>\n",
       "      <td>11</td>\n",
       "      <td>Standard Class</td>\n",
       "      <td>4</td>\n",
       "      <td>12</td>\n",
       "      <td>0.06</td>\n",
       "      <td>6</td>\n",
       "    </tr>\n",
       "    <tr>\n",
       "      <th>30867</th>\n",
       "      <td>7908</td>\n",
       "      <td>19762</td>\n",
       "      <td>201504</td>\n",
       "      <td>2015</td>\n",
       "      <td>4</td>\n",
       "      <td>26</td>\n",
       "      <td>10:10</td>\n",
       "      <td>1</td>\n",
       "      <td>Fan Shop</td>\n",
       "      <td>Hunting &amp; Shooting</td>\n",
       "      <td>...</td>\n",
       "      <td>Paraguay</td>\n",
       "      <td>Puerto Rico</td>\n",
       "      <td>2015</td>\n",
       "      <td>4</td>\n",
       "      <td>30</td>\n",
       "      <td>Standard Class</td>\n",
       "      <td>4</td>\n",
       "      <td>30</td>\n",
       "      <td>0.12</td>\n",
       "      <td>68</td>\n",
       "    </tr>\n",
       "    <tr>\n",
       "      <th>30868</th>\n",
       "      <td>29326</td>\n",
       "      <td>73368</td>\n",
       "      <td>201603</td>\n",
       "      <td>2016</td>\n",
       "      <td>3</td>\n",
       "      <td>4</td>\n",
       "      <td>01:51</td>\n",
       "      <td>1</td>\n",
       "      <td>Fan Shop</td>\n",
       "      <td>Hunting &amp; Shooting</td>\n",
       "      <td>...</td>\n",
       "      <td>India</td>\n",
       "      <td>Puerto Rico</td>\n",
       "      <td>2016</td>\n",
       "      <td>3</td>\n",
       "      <td>6</td>\n",
       "      <td>Second Class</td>\n",
       "      <td>2</td>\n",
       "      <td>30</td>\n",
       "      <td>0.09</td>\n",
       "      <td>68</td>\n",
       "    </tr>\n",
       "    <tr>\n",
       "      <th>30869</th>\n",
       "      <td>63308</td>\n",
       "      <td>158284</td>\n",
       "      <td>201707</td>\n",
       "      <td>2017</td>\n",
       "      <td>7</td>\n",
       "      <td>13</td>\n",
       "      <td>03:15</td>\n",
       "      <td>1</td>\n",
       "      <td>Fan Shop</td>\n",
       "      <td>Hunting &amp; Shooting</td>\n",
       "      <td>...</td>\n",
       "      <td>Germany</td>\n",
       "      <td>Puerto Rico</td>\n",
       "      <td>2017</td>\n",
       "      <td>7</td>\n",
       "      <td>17</td>\n",
       "      <td>Second Class</td>\n",
       "      <td>2</td>\n",
       "      <td>150</td>\n",
       "      <td>0.02</td>\n",
       "      <td>60</td>\n",
       "    </tr>\n",
       "    <tr>\n",
       "      <th>30870</th>\n",
       "      <td>67951</td>\n",
       "      <td>169874</td>\n",
       "      <td>201709</td>\n",
       "      <td>2017</td>\n",
       "      <td>9</td>\n",
       "      <td>18</td>\n",
       "      <td>21:54</td>\n",
       "      <td>1</td>\n",
       "      <td>Fan Shop</td>\n",
       "      <td>Water Sports</td>\n",
       "      <td>...</td>\n",
       "      <td>Italy</td>\n",
       "      <td>Puerto Rico</td>\n",
       "      <td>2017</td>\n",
       "      <td>9</td>\n",
       "      <td>20</td>\n",
       "      <td>First Class</td>\n",
       "      <td>1</td>\n",
       "      <td>350</td>\n",
       "      <td>-</td>\n",
       "      <td>172</td>\n",
       "    </tr>\n",
       "  </tbody>\n",
       "</table>\n",
       "<p>30871 rows × 24 columns</p>\n",
       "</div>"
      ],
      "text/plain": [
       "        Order ID    Order Item ID    Order YearMonth    Order Year   \\\n",
       "0            3535             8793             201502          2015   \n",
       "1            4133            10320             201503          2015   \n",
       "2            7396            18517             201504          2015   \n",
       "3           11026            27608             201506          2015   \n",
       "4           11026            27609             201506          2015   \n",
       "...           ...              ...                ...           ...   \n",
       "30866       73246           176561             201712          2017   \n",
       "30867        7908            19762             201504          2015   \n",
       "30868       29326            73368             201603          2016   \n",
       "30869       63308           158284             201707          2017   \n",
       "30870       67951           169874             201709          2017   \n",
       "\n",
       "        Order Month    Order Day  Order Time  Order Quantity  \\\n",
       "0                  2           21      14:07               1   \n",
       "1                  3            2      07:37               1   \n",
       "2                  4           18      22:47               1   \n",
       "3                  6           10      22:32               1   \n",
       "4                  6           10      22:32               1   \n",
       "...              ...          ...        ...             ...   \n",
       "30866             12            5      04:59               1   \n",
       "30867              4           26      10:10               1   \n",
       "30868              3            4      01:51               1   \n",
       "30869              7           13      03:15               1   \n",
       "30870              9           18      21:54               1   \n",
       "\n",
       "      Product Department    Product Category  ... Customer Country  \\\n",
       "0               Fan Shop             Fishing  ...           Mexico   \n",
       "1               Fan Shop             Fishing  ...           Brazil   \n",
       "2               Fan Shop             Fishing  ...           Mexico   \n",
       "3               Fan Shop             Fishing  ...          Denmark   \n",
       "4               Fan Shop             Fishing  ...          Denmark   \n",
       "...                  ...                 ...  ...              ...   \n",
       "30866           Fan Shop                Toys  ...        Australia   \n",
       "30867           Fan Shop  Hunting & Shooting  ...         Paraguay   \n",
       "30868           Fan Shop  Hunting & Shooting  ...            India   \n",
       "30869           Fan Shop  Hunting & Shooting  ...          Germany   \n",
       "30870           Fan Shop        Water Sports  ...            Italy   \n",
       "\n",
       "       Warehouse Country Shipment Year Shipment Month Shipment Day  \\\n",
       "0            Puerto Rico          2015              2           27   \n",
       "1            Puerto Rico          2015              3            6   \n",
       "2            Puerto Rico          2015              4           20   \n",
       "3            Puerto Rico          2015              6           12   \n",
       "4            Puerto Rico          2015              6           12   \n",
       "...                  ...           ...            ...          ...   \n",
       "30866        Puerto Rico          2017             12           11   \n",
       "30867        Puerto Rico          2015              4           30   \n",
       "30868        Puerto Rico          2016              3            6   \n",
       "30869        Puerto Rico          2017              7           17   \n",
       "30870        Puerto Rico          2017              9           20   \n",
       "\n",
       "        Shipment Mode   Shipment Days - Scheduled    Gross Sales   \\\n",
       "0      Standard Class                            4            400   \n",
       "1      Standard Class                            4            400   \n",
       "2      Standard Class                            4            400   \n",
       "3      Standard Class                            4            400   \n",
       "4      Standard Class                            4            400   \n",
       "...               ...                          ...            ...   \n",
       "30866  Standard Class                            4             12   \n",
       "30867  Standard Class                            4             30   \n",
       "30868    Second Class                            2             30   \n",
       "30869    Second Class                            2            150   \n",
       "30870     First Class                            1            350   \n",
       "\n",
       "        Discount %   Profit   \n",
       "0              0.25      200  \n",
       "1              0.09      200  \n",
       "2              0.06      200  \n",
       "3              0.15      200  \n",
       "4              0.13      200  \n",
       "...             ...      ...  \n",
       "30866          0.06        6  \n",
       "30867          0.12       68  \n",
       "30868          0.09       68  \n",
       "30869          0.02       60  \n",
       "30870           -        172  \n",
       "\n",
       "[30871 rows x 24 columns]"
      ]
     },
     "execution_count": 7,
     "metadata": {},
     "output_type": "execute_result"
    }
   ],
   "source": [
    "#Removing duplicates\n",
    "orders.drop_duplicates()"
   ]
  },
  {
   "cell_type": "code",
   "execution_count": 8,
   "id": "16ca617d-5aeb-49f4-af18-b76d48ffa9d9",
   "metadata": {},
   "outputs": [
    {
     "data": {
      "text/html": [
       "<div>\n",
       "<style scoped>\n",
       "    .dataframe tbody tr th:only-of-type {\n",
       "        vertical-align: middle;\n",
       "    }\n",
       "\n",
       "    .dataframe tbody tr th {\n",
       "        vertical-align: top;\n",
       "    }\n",
       "\n",
       "    .dataframe thead th {\n",
       "        text-align: right;\n",
       "    }\n",
       "</style>\n",
       "<table border=\"1\" class=\"dataframe\">\n",
       "  <thead>\n",
       "    <tr style=\"text-align: right;\">\n",
       "      <th></th>\n",
       "      <th>Product Name</th>\n",
       "      <th>Warehouse Order Fulfillment (days)</th>\n",
       "    </tr>\n",
       "  </thead>\n",
       "  <tbody>\n",
       "    <tr>\n",
       "      <th>0</th>\n",
       "      <td>Perfect Fitness Perfect Rip Deck</td>\n",
       "      <td>8.3</td>\n",
       "    </tr>\n",
       "    <tr>\n",
       "      <th>1</th>\n",
       "      <td>Nike Men's Dri-FIT Victory Golf Polo</td>\n",
       "      <td>6.6</td>\n",
       "    </tr>\n",
       "    <tr>\n",
       "      <th>2</th>\n",
       "      <td>O'Brien Men's Neoprene Life Vest</td>\n",
       "      <td>5.5</td>\n",
       "    </tr>\n",
       "    <tr>\n",
       "      <th>3</th>\n",
       "      <td>Nike Men's Free 5.0+ Running Shoe</td>\n",
       "      <td>9.4</td>\n",
       "    </tr>\n",
       "    <tr>\n",
       "      <th>4</th>\n",
       "      <td>Under Armour Girls' Toddler Spine Surge Runni</td>\n",
       "      <td>6.3</td>\n",
       "    </tr>\n",
       "    <tr>\n",
       "      <th>...</th>\n",
       "      <td>...</td>\n",
       "      <td>...</td>\n",
       "    </tr>\n",
       "    <tr>\n",
       "      <th>113</th>\n",
       "      <td>Stiga Master Series ST3100 Competition Indoor</td>\n",
       "      <td>4.7</td>\n",
       "    </tr>\n",
       "    <tr>\n",
       "      <th>114</th>\n",
       "      <td>SOLE E35 Elliptical</td>\n",
       "      <td>1.9</td>\n",
       "    </tr>\n",
       "    <tr>\n",
       "      <th>115</th>\n",
       "      <td>Bushnell Pro X7 Jolt Slope Rangefinder</td>\n",
       "      <td>2.0</td>\n",
       "    </tr>\n",
       "    <tr>\n",
       "      <th>116</th>\n",
       "      <td>SOLE E25 Elliptical</td>\n",
       "      <td>2.1</td>\n",
       "    </tr>\n",
       "    <tr>\n",
       "      <th>117</th>\n",
       "      <td>Bowflex SelectTech 1090 Dumbbells</td>\n",
       "      <td>7.7</td>\n",
       "    </tr>\n",
       "  </tbody>\n",
       "</table>\n",
       "<p>118 rows × 2 columns</p>\n",
       "</div>"
      ],
      "text/plain": [
       "                                      Product Name  \\\n",
       "0                 Perfect Fitness Perfect Rip Deck   \n",
       "1             Nike Men's Dri-FIT Victory Golf Polo   \n",
       "2                 O'Brien Men's Neoprene Life Vest   \n",
       "3                Nike Men's Free 5.0+ Running Shoe   \n",
       "4    Under Armour Girls' Toddler Spine Surge Runni   \n",
       "..                                             ...   \n",
       "113  Stiga Master Series ST3100 Competition Indoor   \n",
       "114                            SOLE E35 Elliptical   \n",
       "115         Bushnell Pro X7 Jolt Slope Rangefinder   \n",
       "116                            SOLE E25 Elliptical   \n",
       "117              Bowflex SelectTech 1090 Dumbbells   \n",
       "\n",
       "      Warehouse Order Fulfillment (days)   \n",
       "0                                     8.3  \n",
       "1                                     6.6  \n",
       "2                                     5.5  \n",
       "3                                     9.4  \n",
       "4                                     6.3  \n",
       "..                                    ...  \n",
       "113                                   4.7  \n",
       "114                                   1.9  \n",
       "115                                   2.0  \n",
       "116                                   2.1  \n",
       "117                                   7.7  \n",
       "\n",
       "[118 rows x 2 columns]"
      ]
     },
     "execution_count": 8,
     "metadata": {},
     "output_type": "execute_result"
    }
   ],
   "source": [
    "#Removing duplicates\n",
    "fulfillment.drop_duplicates()"
   ]
  },
  {
   "cell_type": "code",
   "execution_count": 9,
   "id": "bb7c42cb-6a39-4ed4-b02f-a7bc3bda4e53",
   "metadata": {},
   "outputs": [
    {
     "data": {
      "text/html": [
       "<div>\n",
       "<style scoped>\n",
       "    .dataframe tbody tr th:only-of-type {\n",
       "        vertical-align: middle;\n",
       "    }\n",
       "\n",
       "    .dataframe tbody tr th {\n",
       "        vertical-align: top;\n",
       "    }\n",
       "\n",
       "    .dataframe thead th {\n",
       "        text-align: right;\n",
       "    }\n",
       "</style>\n",
       "<table border=\"1\" class=\"dataframe\">\n",
       "  <thead>\n",
       "    <tr style=\"text-align: right;\">\n",
       "      <th></th>\n",
       "      <th>Product Name</th>\n",
       "      <th>Year Month</th>\n",
       "      <th>Warehouse Inventory</th>\n",
       "      <th>Inventory Cost Per Unit</th>\n",
       "    </tr>\n",
       "  </thead>\n",
       "  <tbody>\n",
       "    <tr>\n",
       "      <th>0</th>\n",
       "      <td>Perfect Fitness Perfect Rip Deck</td>\n",
       "      <td>201712</td>\n",
       "      <td>0</td>\n",
       "      <td>0.69517</td>\n",
       "    </tr>\n",
       "    <tr>\n",
       "      <th>1</th>\n",
       "      <td>Nike Men's Dri-FIT Victory Golf Polo</td>\n",
       "      <td>201712</td>\n",
       "      <td>2</td>\n",
       "      <td>1.29291</td>\n",
       "    </tr>\n",
       "    <tr>\n",
       "      <th>2</th>\n",
       "      <td>O'Brien Men's Neoprene Life Vest</td>\n",
       "      <td>201712</td>\n",
       "      <td>0</td>\n",
       "      <td>0.56531</td>\n",
       "    </tr>\n",
       "    <tr>\n",
       "      <th>3</th>\n",
       "      <td>Nike Men's Free 5.0+ Running Shoe</td>\n",
       "      <td>201712</td>\n",
       "      <td>1</td>\n",
       "      <td>1.26321</td>\n",
       "    </tr>\n",
       "    <tr>\n",
       "      <th>4</th>\n",
       "      <td>Under Armour Girls' Toddler Spine Surge Runni</td>\n",
       "      <td>201712</td>\n",
       "      <td>0</td>\n",
       "      <td>1.47648</td>\n",
       "    </tr>\n",
       "    <tr>\n",
       "      <th>...</th>\n",
       "      <td>...</td>\n",
       "      <td>...</td>\n",
       "      <td>...</td>\n",
       "      <td>...</td>\n",
       "    </tr>\n",
       "    <tr>\n",
       "      <th>4195</th>\n",
       "      <td>TaylorMade 2017 Purelite Stand Bag</td>\n",
       "      <td>201501</td>\n",
       "      <td>0</td>\n",
       "      <td>1.44662</td>\n",
       "    </tr>\n",
       "    <tr>\n",
       "      <th>4196</th>\n",
       "      <td>Ogio Race Golf Shoes</td>\n",
       "      <td>201501</td>\n",
       "      <td>0</td>\n",
       "      <td>0.10310</td>\n",
       "    </tr>\n",
       "    <tr>\n",
       "      <th>4197</th>\n",
       "      <td>GolfBuddy VT3 GPS Watch</td>\n",
       "      <td>201501</td>\n",
       "      <td>0</td>\n",
       "      <td>1.77747</td>\n",
       "    </tr>\n",
       "    <tr>\n",
       "      <th>4198</th>\n",
       "      <td>Titleist Small Wheeled Travel Cover</td>\n",
       "      <td>201501</td>\n",
       "      <td>0</td>\n",
       "      <td>0.15244</td>\n",
       "    </tr>\n",
       "    <tr>\n",
       "      <th>4199</th>\n",
       "      <td>Polar Loop Activity Tracker</td>\n",
       "      <td>201501</td>\n",
       "      <td>1</td>\n",
       "      <td>0.88259</td>\n",
       "    </tr>\n",
       "  </tbody>\n",
       "</table>\n",
       "<p>4200 rows × 4 columns</p>\n",
       "</div>"
      ],
      "text/plain": [
       "                                       Product Name   Year Month   \\\n",
       "0                  Perfect Fitness Perfect Rip Deck        201712   \n",
       "1              Nike Men's Dri-FIT Victory Golf Polo        201712   \n",
       "2                  O'Brien Men's Neoprene Life Vest        201712   \n",
       "3                 Nike Men's Free 5.0+ Running Shoe        201712   \n",
       "4     Under Armour Girls' Toddler Spine Surge Runni        201712   \n",
       "...                                             ...           ...   \n",
       "4195             TaylorMade 2017 Purelite Stand Bag        201501   \n",
       "4196                           Ogio Race Golf Shoes        201501   \n",
       "4197                        GolfBuddy VT3 GPS Watch        201501   \n",
       "4198            Titleist Small Wheeled Travel Cover        201501   \n",
       "4199                    Polar Loop Activity Tracker        201501   \n",
       "\n",
       "       Warehouse Inventory   Inventory Cost Per Unit  \n",
       "0                         0                  0.69517  \n",
       "1                         2                  1.29291  \n",
       "2                         0                  0.56531  \n",
       "3                         1                  1.26321  \n",
       "4                         0                  1.47648  \n",
       "...                     ...                      ...  \n",
       "4195                      0                  1.44662  \n",
       "4196                      0                  0.10310  \n",
       "4197                      0                  1.77747  \n",
       "4198                      0                  0.15244  \n",
       "4199                      1                  0.88259  \n",
       "\n",
       "[4200 rows x 4 columns]"
      ]
     },
     "execution_count": 9,
     "metadata": {},
     "output_type": "execute_result"
    }
   ],
   "source": [
    "#Removing duplicates\n",
    "inventory.drop_duplicates()"
   ]
  },
  {
   "cell_type": "markdown",
   "id": "29d806f3-260d-457b-894c-83de8ce16f50",
   "metadata": {},
   "source": [
    "### Cleaning Column names"
   ]
  },
  {
   "cell_type": "code",
   "execution_count": 10,
   "id": "3e0601d6-db62-4c13-8b1e-0b5c30d83c36",
   "metadata": {},
   "outputs": [],
   "source": [
    "orders.columns=orders.columns.str.strip()"
   ]
  },
  {
   "cell_type": "code",
   "execution_count": 11,
   "id": "24d33ce4-048e-4605-9267-161977e68110",
   "metadata": {},
   "outputs": [],
   "source": [
    "fulfillment.columns=fulfillment.columns.str.strip()"
   ]
  },
  {
   "cell_type": "code",
   "execution_count": 12,
   "id": "4cc65f12-17c9-4751-baaa-eb1e8d281baf",
   "metadata": {},
   "outputs": [],
   "source": [
    "inventory.columns=inventory.columns.str.strip()"
   ]
  },
  {
   "cell_type": "markdown",
   "id": "052c202d-cf04-4047-9795-922156c14a6b",
   "metadata": {},
   "source": [
    "#### Removing unnecessary column(OrderYearMonth) from the orders dataset. Order Year and month columns exist"
   ]
  },
  {
   "cell_type": "code",
   "execution_count": 13,
   "id": "73a9ea42-89bf-478b-a728-b10f68c526e6",
   "metadata": {},
   "outputs": [],
   "source": [
    "del orders[\"Order YearMonth\"]"
   ]
  },
  {
   "cell_type": "markdown",
   "id": "a4de6f37-2c98-473a-86c8-a5770c2377eb",
   "metadata": {},
   "source": [
    "### Checking Orders column data types"
   ]
  },
  {
   "cell_type": "code",
   "execution_count": 14,
   "id": "2b81d882-5625-468a-ace4-49b13bdb35ab",
   "metadata": {
    "scrolled": true
   },
   "outputs": [
    {
     "data": {
      "text/plain": [
       "Order ID                      int64\n",
       "Order Item ID                 int64\n",
       "Order Year                    int64\n",
       "Order Month                   int64\n",
       "Order Day                     int64\n",
       "Order Time                   object\n",
       "Order Quantity                int64\n",
       "Product Department           object\n",
       "Product Category             object\n",
       "Product Name                 object\n",
       "Customer ID                   int64\n",
       "Customer Market              object\n",
       "Customer Region              object\n",
       "Customer Country             object\n",
       "Warehouse Country            object\n",
       "Shipment Year                 int64\n",
       "Shipment Month                int64\n",
       "Shipment Day                  int64\n",
       "Shipment Mode                object\n",
       "Shipment Days - Scheduled     int64\n",
       "Gross Sales                   int64\n",
       "Discount %                   object\n",
       "Profit                        int64\n",
       "dtype: object"
      ]
     },
     "execution_count": 14,
     "metadata": {},
     "output_type": "execute_result"
    }
   ],
   "source": [
    "orders.dtypes"
   ]
  },
  {
   "cell_type": "markdown",
   "id": "38f7a471-dcd6-4df9-be09-a7cd76efa583",
   "metadata": {},
   "source": [
    "### Changing the Discount % column datatype to float"
   ]
  },
  {
   "cell_type": "code",
   "execution_count": 15,
   "id": "355ab500-4344-4650-8145-b0b9c67a14d5",
   "metadata": {
    "scrolled": true
   },
   "outputs": [
    {
     "data": {
      "text/plain": [
       "0        0.25\n",
       "1        0.09\n",
       "2        0.06\n",
       "3        0.15\n",
       "4        0.13\n",
       "         ... \n",
       "30866    0.06\n",
       "30867    0.12\n",
       "30868    0.09\n",
       "30869    0.02\n",
       "30870    0.00\n",
       "Name: Discount %, Length: 30871, dtype: float64"
      ]
     },
     "execution_count": 15,
     "metadata": {},
     "output_type": "execute_result"
    }
   ],
   "source": [
    "#Removing all errors in the column\n",
    "orders[\"Discount %\"]=orders[\"Discount %\"].replace(\"-\",0,regex= True)\n",
    "\n",
    "#Changing the Discount % datatype to float\n",
    "orders[\"Discount %\"].astype(float)"
   ]
  },
  {
   "cell_type": "markdown",
   "id": "93966a65-fe03-4b5d-adfd-66abc3291327",
   "metadata": {},
   "source": [
    "### Checking for missing values"
   ]
  },
  {
   "cell_type": "code",
   "execution_count": 16,
   "id": "0639cb45-591c-468b-8a05-cf78dc0d1523",
   "metadata": {},
   "outputs": [
    {
     "data": {
      "text/plain": [
       "Order ID                     0\n",
       "Order Item ID                0\n",
       "Order Year                   0\n",
       "Order Month                  0\n",
       "Order Day                    0\n",
       "Order Time                   0\n",
       "Order Quantity               0\n",
       "Product Department           0\n",
       "Product Category             0\n",
       "Product Name                 0\n",
       "Customer ID                  0\n",
       "Customer Market              0\n",
       "Customer Region              0\n",
       "Customer Country             0\n",
       "Warehouse Country            0\n",
       "Shipment Year                0\n",
       "Shipment Month               0\n",
       "Shipment Day                 0\n",
       "Shipment Mode                0\n",
       "Shipment Days - Scheduled    0\n",
       "Gross Sales                  0\n",
       "Discount %                   0\n",
       "Profit                       0\n",
       "dtype: int64"
      ]
     },
     "execution_count": 16,
     "metadata": {},
     "output_type": "execute_result"
    }
   ],
   "source": [
    "orders.isna().sum()"
   ]
  },
  {
   "cell_type": "markdown",
   "id": "78489f2c-b46b-48b2-8ba5-0dd708e3a937",
   "metadata": {},
   "source": [
    "#### Removing errors and wrong spelling in the Customer Country column"
   ]
  },
  {
   "cell_type": "code",
   "execution_count": 17,
   "id": "058d5bf2-b041-4562-822a-9948c63a737d",
   "metadata": {},
   "outputs": [],
   "source": [
    "orders[\"Customer Country\"]=orders[\"Customer Country\"].replace(\"\\W\",\"\",regex=True)\t"
   ]
  },
  {
   "cell_type": "code",
   "execution_count": 18,
   "id": "42b37238-a8e5-4ef3-b85b-afb1fdca30dd",
   "metadata": {},
   "outputs": [
    {
     "data": {
      "text/plain": [
       "array(['Mexico', 'Brazil', 'Denmark', 'Netherlands', 'Germany', 'China',\n",
       "       'Indonesia', 'Pakistan', 'India', 'USA', 'Hungary', 'Sudan',\n",
       "       'DemocraticRepublicofCongo', 'Poland', 'Togo', 'Guatemala',\n",
       "       'Panama', 'Chile', 'France', 'Sweden', 'DominicanRepublic',\n",
       "       'Venezuela', 'SouthKorea', 'Madagascar', 'Iran', 'Cuba',\n",
       "       'Nicaragua', 'UnitedKingdom', 'Afghanistan', 'Singapore',\n",
       "       'Morocco', 'Spain', 'Niger', 'Turkey', 'SouthAfrica', 'Iraq',\n",
       "       'Honduras', 'Italy', 'Australia', 'CotedIvoire', 'Croatia',\n",
       "       'Ecuador', 'Syria', 'Haiti', 'Bangladesh', 'Argentina', 'Romania',\n",
       "       'ElSalvador', 'Vietnam', 'Japan', 'Nigeria', 'Belarus',\n",
       "       'Uzbekistan', 'Egypt', 'Albania', 'Georgia', 'Cameroon',\n",
       "       'Colombia', 'Newzealand', 'Canada', 'Thailand', 'Senegal',\n",
       "       'Russia', 'Perú', 'Algeria', 'Ukraine', 'Belgium', 'Philippines',\n",
       "       'Austria', 'Uruguay', 'Malaysia', 'HongKong', 'SaudiArabia',\n",
       "       'Switzerland', 'Ireland', 'Bulgaria', 'Zambia', 'Jamaica', 'Ghana',\n",
       "       'Yemen', 'Norway', 'Tanzania', 'Kazakhstan', 'Libya',\n",
       "       'TrinidadandTobago', 'Finland', 'Portugal', 'Kenya', 'Jordania',\n",
       "       'Bolivia', 'Gabon', 'Angola', 'Myanmar', 'Mali', 'UAE',\n",
       "       'BosniaandHerzegovina', 'Guinea', 'Cambodia', 'PapuaNewGuinea',\n",
       "       'Rwanda', 'Israel', 'Guyana', 'Somalia', 'Barbados', 'Guadalupe',\n",
       "       'Kyrgyzstan', 'Benín', 'Tunisia', 'Lithuania', 'Montenegro',\n",
       "       'CostaRica', 'Mozambique', 'SriLanka', 'Taiwan',\n",
       "       'CzechRepublicCzechia', 'Lesotho', 'Mongolia', 'Macedonia',\n",
       "       'Zimbabwe', 'Liberia', 'Liban', 'GuineaBissau', 'Estonia',\n",
       "       'Azerbaijan', 'Moldova', 'RepublicofCongo', 'Gambia', 'Mauritania',\n",
       "       'Belize', 'Qatar', 'SierraLeona', 'Slovakia', 'Martinique',\n",
       "       'Uganda', 'Namibia', 'Paraguay', 'Oman', 'FrenchGuiana', 'Nepal'],\n",
       "      dtype=object)"
      ]
     },
     "execution_count": 18,
     "metadata": {},
     "output_type": "execute_result"
    }
   ],
   "source": [
    "orders[\"Customer Country\"].unique()"
   ]
  },
  {
   "cell_type": "markdown",
   "id": "c26d9cb4-1c12-4809-b71d-cc8ae6db0719",
   "metadata": {},
   "source": [
    "### Cleaning Column Contents"
   ]
  },
  {
   "cell_type": "code",
   "execution_count": 19,
   "id": "88b86833-c69a-4f87-b698-4925a38a17ec",
   "metadata": {},
   "outputs": [],
   "source": [
    "orders = orders.map(lambda x: x.strip() if isinstance(x, str) else x)"
   ]
  },
  {
   "cell_type": "markdown",
   "id": "7326ad51-4aa1-466a-b6f5-68491a5e1e8e",
   "metadata": {},
   "source": [
    "### Creating a datetime column for \"Order Date\""
   ]
  },
  {
   "cell_type": "code",
   "execution_count": 20,
   "id": "63afe9ec-98f8-48c3-a908-6aac83b9f27a",
   "metadata": {},
   "outputs": [],
   "source": [
    "#creating a new column (order date). Joining order year, order month and order day together.\n",
    "orders[\"Order Date\"] = pd.to_datetime({'year': orders[\"Order Year\"],'month': orders[\"Order Month\"], 'day': orders[\"Order Day\"]})\n"
   ]
  },
  {
   "cell_type": "code",
   "execution_count": 21,
   "id": "93e6e0c0-cf6e-4712-a50c-b381bdf7ff66",
   "metadata": {},
   "outputs": [
    {
     "data": {
      "text/plain": [
       "0   2015-02-21\n",
       "1   2015-03-02\n",
       "2   2015-04-18\n",
       "3   2015-06-10\n",
       "4   2015-06-10\n",
       "Name: Order Date, dtype: datetime64[ns]"
      ]
     },
     "execution_count": 21,
     "metadata": {},
     "output_type": "execute_result"
    }
   ],
   "source": [
    "# Displaying results \n",
    "orders[\"Order Date\"].head()"
   ]
  },
  {
   "cell_type": "markdown",
   "id": "bf7dad5a-0f75-42c9-bfb4-4710b85a8663",
   "metadata": {},
   "source": [
    "### Creating a datetime column for \"Shipment Date\""
   ]
  },
  {
   "cell_type": "code",
   "execution_count": 22,
   "id": "1c6dbd37-c3a2-4a23-bb8b-a0dc36d11048",
   "metadata": {},
   "outputs": [
    {
     "data": {
      "text/plain": [
       "0   2015-02-27\n",
       "1   2015-03-06\n",
       "2   2015-04-20\n",
       "3   2015-06-12\n",
       "4   2015-06-12\n",
       "Name: Shipment Date, dtype: datetime64[ns]"
      ]
     },
     "execution_count": 22,
     "metadata": {},
     "output_type": "execute_result"
    }
   ],
   "source": [
    "#creating a new column (Shipment Date). Joining shipment year, shipment month and shipment day together.\n",
    "orders[\"Shipment Date\"] = pd.to_datetime({'year': orders[\"Shipment Year\"],'month': orders[\"Shipment Month\"], 'day': orders[\"Shipment Day\"]})\n",
    "\n",
    "#Displaying results\n",
    "orders[\"Shipment Date\"].head()"
   ]
  },
  {
   "cell_type": "markdown",
   "id": "6ef97297-c0af-4dc9-bcd9-084f72c8e8da",
   "metadata": {},
   "source": [
    "### Removing unwanted columns. (after joining columns to get order date and shipment date columns, the single columns are irrelevant)"
   ]
  },
  {
   "cell_type": "code",
   "execution_count": 23,
   "id": "0019dd0c-e4d3-4bbf-a2f6-0d2adb9f644f",
   "metadata": {},
   "outputs": [],
   "source": [
    "orders.drop(columns=['Order Year', 'Order Month', 'Order Day',\n",
    "                        'Shipment Year', 'Shipment Month', 'Shipment Day'], inplace=True)"
   ]
  },
  {
   "cell_type": "code",
   "execution_count": null,
   "id": "f8bcb704-9d7d-455a-bd6c-8cadeaf4695a",
   "metadata": {},
   "outputs": [],
   "source": [
    "orders"
   ]
  },
  {
   "cell_type": "code",
   "execution_count": 25,
   "id": "cb895ee8-d1d3-4389-bb83-4d67b6dc0068",
   "metadata": {},
   "outputs": [
    {
     "data": {
      "text/plain": [
       "Product Name                           object\n",
       "Warehouse Order Fulfillment (days)    float64\n",
       "dtype: object"
      ]
     },
     "execution_count": 25,
     "metadata": {},
     "output_type": "execute_result"
    }
   ],
   "source": [
    "#Checking fufilment columns datatype\n",
    "fulfillment.dtypes"
   ]
  },
  {
   "cell_type": "code",
   "execution_count": 26,
   "id": "fe912c40-ce2b-4e1d-885b-a383969042d8",
   "metadata": {},
   "outputs": [
    {
     "data": {
      "text/plain": [
       "Product Name                object\n",
       "Year Month                   int64\n",
       "Warehouse Inventory          int64\n",
       "Inventory Cost Per Unit    float64\n",
       "dtype: object"
      ]
     },
     "execution_count": 26,
     "metadata": {},
     "output_type": "execute_result"
    }
   ],
   "source": [
    "#checking inventory columns datatype\n",
    "inventory.dtypes"
   ]
  },
  {
   "cell_type": "code",
   "execution_count": 27,
   "id": "b91d3545-0eb9-4e0c-959c-e19e19b05938",
   "metadata": {},
   "outputs": [],
   "source": [
    "inventory[\"Year Month\"] = inventory[\"Year Month\"].astype(str)"
   ]
  },
  {
   "cell_type": "code",
   "execution_count": 28,
   "id": "785dd086-fbe1-4107-9019-3b7f1d089c1b",
   "metadata": {},
   "outputs": [],
   "source": [
    "#converting inventory year month to datetime \n",
    "inventory[\"Date\"] = pd.to_datetime(inventory[\"Year Month\"] + '01', format='%Y%m%d')\n",
    "inventory[\"Year Month\"] = inventory[\"Date\"].dt.to_period('M')\n"
   ]
  },
  {
   "cell_type": "code",
   "execution_count": 29,
   "id": "58c1507a-e64f-4234-83f1-2a8740371758",
   "metadata": {},
   "outputs": [],
   "source": [
    "del inventory [\"Date\"]"
   ]
  },
  {
   "cell_type": "markdown",
   "id": "992a45ae-278b-4761-ace1-c088cec75b15",
   "metadata": {},
   "source": [
    "# Data Manipulation"
   ]
  },
  {
   "cell_type": "markdown",
   "id": "12a3ea4b-a447-4c45-91c3-8ca73a356149",
   "metadata": {},
   "source": [
    "### Processing Time\n",
    "Creating a new column \"processing time\" which will show the the number of days the order processing took (from the Order date to the Shipment date). This will also help in calculating shipment delays, we would be able to see the differece between the scheduled shipment days and the actual days."
   ]
  },
  {
   "cell_type": "code",
   "execution_count": 30,
   "id": "f4a6c30a-47ba-4a8e-8416-92a6bdf809dd",
   "metadata": {},
   "outputs": [],
   "source": [
    "orders[\"Processing Time\"] = (orders[\"Shipment Date\"] - orders[\"Order Date\"]).dt.days"
   ]
  },
  {
   "cell_type": "markdown",
   "id": "b30df932-a5c2-4d70-95f6-b5490b04c89c",
   "metadata": {},
   "source": [
    "### Shipment Delay\n",
    "Creating a shipment delay column, this is the difference between the actual processing time and the scheduled shipment day to assess delays or efficiencies. Positive values indicates the processing took longer than scheduled.\n",
    "Negative values indicate the processing was faster than scheduled while Zero indicates the processing was completed on schedule."
   ]
  },
  {
   "cell_type": "code",
   "execution_count": 31,
   "id": "77302352-d36f-40c6-a08b-a5468c7778af",
   "metadata": {},
   "outputs": [],
   "source": [
    "orders[\"Shipment Delay (days)\"] = orders[\"Processing Time\"] - orders[\"Shipment Days - Scheduled\"]"
   ]
  },
  {
   "cell_type": "markdown",
   "id": "29951734-44f3-4f64-9086-e03bc8f6af28",
   "metadata": {},
   "source": [
    "### Profit Margin\n",
    "Creating a Profit Margin column which will be Profit/Gross Sales * 100"
   ]
  },
  {
   "cell_type": "code",
   "execution_count": 32,
   "id": "4369ad55-3e70-4584-b313-25bc57222dcf",
   "metadata": {},
   "outputs": [],
   "source": [
    "orders[\"Profit Margin\"] = (orders[\"Profit\"] / orders[\"Gross Sales\"]) * 100"
   ]
  },
  {
   "cell_type": "code",
   "execution_count": 33,
   "id": "4a6d195f-5707-4fb0-b135-3c6c97a25710",
   "metadata": {},
   "outputs": [],
   "source": [
    "orders[\"Profit Margin\"] = orders[\"Profit Margin\"].round(2)"
   ]
  },
  {
   "cell_type": "markdown",
   "id": "9d1d3a92-04bc-4a40-9523-787be516eeed",
   "metadata": {},
   "source": [
    "## Exporting Cleaned Data\n",
    "Saving and exporting cleaned datasets to a csv file for more insights and visualization using Power BI"
   ]
  },
  {
   "cell_type": "code",
   "execution_count": 34,
   "id": "7d6f40ed-eab7-4a1a-9b15-9228d666bb7b",
   "metadata": {},
   "outputs": [],
   "source": [
    "orders.to_csv(\"order and shipments.csv\", index = False)\n",
    "inventory.to_csv(\"inventory.csv\", index = False)\n",
    "fulfillment.to_csv(\"fulfilment.csv\", index = False)"
   ]
  }
 ],
 "metadata": {
  "kernelspec": {
   "display_name": "Python 3 (ipykernel)",
   "language": "python",
   "name": "python3"
  },
  "language_info": {
   "codemirror_mode": {
    "name": "ipython",
    "version": 3
   },
   "file_extension": ".py",
   "mimetype": "text/x-python",
   "name": "python",
   "nbconvert_exporter": "python",
   "pygments_lexer": "ipython3",
   "version": "3.11.7"
  }
 },
 "nbformat": 4,
 "nbformat_minor": 5
}
